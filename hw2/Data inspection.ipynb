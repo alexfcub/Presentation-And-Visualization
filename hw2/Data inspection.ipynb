{
 "cells": [
  {
   "cell_type": "code",
   "execution_count": 1,
   "metadata": {
    "collapsed": true
   },
   "outputs": [],
   "source": [
    "import pandas as pd\n",
    "import matplotlib.pyplot as plt"
   ]
  },
  {
   "cell_type": "code",
   "execution_count": 2,
   "metadata": {},
   "outputs": [
    {
     "data": {
      "text/html": [
       "<div>\n",
       "<style>\n",
       "    .dataframe thead tr:only-child th {\n",
       "        text-align: right;\n",
       "    }\n",
       "\n",
       "    .dataframe thead th {\n",
       "        text-align: left;\n",
       "    }\n",
       "\n",
       "    .dataframe tbody tr th {\n",
       "        vertical-align: top;\n",
       "    }\n",
       "</style>\n",
       "<table border=\"1\" class=\"dataframe\">\n",
       "  <thead>\n",
       "    <tr style=\"text-align: right;\">\n",
       "      <th></th>\n",
       "      <th>Year</th>\n",
       "      <th>Product line</th>\n",
       "      <th>Product type</th>\n",
       "      <th>Product</th>\n",
       "      <th>Order method type</th>\n",
       "      <th>Retailer country</th>\n",
       "      <th>Revenue</th>\n",
       "      <th>Planned revenue</th>\n",
       "      <th>Product cost</th>\n",
       "      <th>Quantity</th>\n",
       "      <th>Unit cost</th>\n",
       "      <th>Unit price</th>\n",
       "      <th>Gross profit</th>\n",
       "      <th>Unit sale price</th>\n",
       "    </tr>\n",
       "  </thead>\n",
       "  <tbody>\n",
       "    <tr>\n",
       "      <th>0</th>\n",
       "      <td>2004</td>\n",
       "      <td>Camping Equipment</td>\n",
       "      <td>Cooking Gear</td>\n",
       "      <td>TrailChef Water Bag</td>\n",
       "      <td>Telephone</td>\n",
       "      <td>United States</td>\n",
       "      <td>315044.33</td>\n",
       "      <td>437477.15</td>\n",
       "      <td>158371.76</td>\n",
       "      <td>66385.0</td>\n",
       "      <td>2.552857</td>\n",
       "      <td>6.59</td>\n",
       "      <td>156672.57</td>\n",
       "      <td>5.195714</td>\n",
       "    </tr>\n",
       "    <tr>\n",
       "      <th>1</th>\n",
       "      <td>2004</td>\n",
       "      <td>Camping Equipment</td>\n",
       "      <td>Cooking Gear</td>\n",
       "      <td>TrailChef Water Bag</td>\n",
       "      <td>Telephone</td>\n",
       "      <td>Canada</td>\n",
       "      <td>13444.68</td>\n",
       "      <td>14313.48</td>\n",
       "      <td>6298.80</td>\n",
       "      <td>2172.0</td>\n",
       "      <td>2.900000</td>\n",
       "      <td>6.59</td>\n",
       "      <td>7145.88</td>\n",
       "      <td>6.190000</td>\n",
       "    </tr>\n",
       "    <tr>\n",
       "      <th>2</th>\n",
       "      <td>2004</td>\n",
       "      <td>Camping Equipment</td>\n",
       "      <td>Cooking Gear</td>\n",
       "      <td>TrailChef Water Bag</td>\n",
       "      <td>Telephone</td>\n",
       "      <td>Mexico</td>\n",
       "      <td>NaN</td>\n",
       "      <td>NaN</td>\n",
       "      <td>NaN</td>\n",
       "      <td>NaN</td>\n",
       "      <td>NaN</td>\n",
       "      <td>NaN</td>\n",
       "      <td>NaN</td>\n",
       "      <td>NaN</td>\n",
       "    </tr>\n",
       "    <tr>\n",
       "      <th>3</th>\n",
       "      <td>2004</td>\n",
       "      <td>Camping Equipment</td>\n",
       "      <td>Cooking Gear</td>\n",
       "      <td>TrailChef Water Bag</td>\n",
       "      <td>Telephone</td>\n",
       "      <td>Brazil</td>\n",
       "      <td>NaN</td>\n",
       "      <td>NaN</td>\n",
       "      <td>NaN</td>\n",
       "      <td>NaN</td>\n",
       "      <td>NaN</td>\n",
       "      <td>NaN</td>\n",
       "      <td>NaN</td>\n",
       "      <td>NaN</td>\n",
       "    </tr>\n",
       "    <tr>\n",
       "      <th>4</th>\n",
       "      <td>2004</td>\n",
       "      <td>Camping Equipment</td>\n",
       "      <td>Cooking Gear</td>\n",
       "      <td>TrailChef Water Bag</td>\n",
       "      <td>Telephone</td>\n",
       "      <td>Japan</td>\n",
       "      <td>181120.24</td>\n",
       "      <td>235236.64</td>\n",
       "      <td>89413.06</td>\n",
       "      <td>35696.0</td>\n",
       "      <td>2.657000</td>\n",
       "      <td>6.59</td>\n",
       "      <td>91707.18</td>\n",
       "      <td>5.488000</td>\n",
       "    </tr>\n",
       "  </tbody>\n",
       "</table>\n",
       "</div>"
      ],
      "text/plain": [
       "   Year       Product line  Product type              Product  \\\n",
       "0  2004  Camping Equipment  Cooking Gear  TrailChef Water Bag   \n",
       "1  2004  Camping Equipment  Cooking Gear  TrailChef Water Bag   \n",
       "2  2004  Camping Equipment  Cooking Gear  TrailChef Water Bag   \n",
       "3  2004  Camping Equipment  Cooking Gear  TrailChef Water Bag   \n",
       "4  2004  Camping Equipment  Cooking Gear  TrailChef Water Bag   \n",
       "\n",
       "  Order method type Retailer country    Revenue  Planned revenue  \\\n",
       "0         Telephone    United States  315044.33        437477.15   \n",
       "1         Telephone           Canada   13444.68         14313.48   \n",
       "2         Telephone           Mexico        NaN              NaN   \n",
       "3         Telephone           Brazil        NaN              NaN   \n",
       "4         Telephone            Japan  181120.24        235236.64   \n",
       "\n",
       "   Product cost  Quantity  Unit cost  Unit price  Gross profit  \\\n",
       "0     158371.76   66385.0   2.552857        6.59     156672.57   \n",
       "1       6298.80    2172.0   2.900000        6.59       7145.88   \n",
       "2           NaN       NaN        NaN         NaN           NaN   \n",
       "3           NaN       NaN        NaN         NaN           NaN   \n",
       "4      89413.06   35696.0   2.657000        6.59      91707.18   \n",
       "\n",
       "   Unit sale price  \n",
       "0         5.195714  \n",
       "1         6.190000  \n",
       "2              NaN  \n",
       "3              NaN  \n",
       "4         5.488000  "
      ]
     },
     "execution_count": 2,
     "metadata": {},
     "output_type": "execute_result"
    }
   ],
   "source": [
    "df = pd.read_csv(\"WA_Retail-SalesMarketing_-ProfitCost.csv\")\n",
    "#X = df_see.drop(\"gene\",axis=1).values.astype(\"int\") # to drop the gene column and convert data to int\n",
    "samples = df.columns\n",
    "df.head()"
   ]
  },
  {
   "cell_type": "code",
   "execution_count": 3,
   "metadata": {},
   "outputs": [
    {
     "data": {
      "text/html": [
       "<div>\n",
       "<style>\n",
       "    .dataframe thead tr:only-child th {\n",
       "        text-align: right;\n",
       "    }\n",
       "\n",
       "    .dataframe thead th {\n",
       "        text-align: left;\n",
       "    }\n",
       "\n",
       "    .dataframe tbody tr th {\n",
       "        vertical-align: top;\n",
       "    }\n",
       "</style>\n",
       "<table border=\"1\" class=\"dataframe\">\n",
       "  <thead>\n",
       "    <tr style=\"text-align: right;\">\n",
       "      <th></th>\n",
       "      <th>Gross profit</th>\n",
       "    </tr>\n",
       "    <tr>\n",
       "      <th>Year</th>\n",
       "      <th></th>\n",
       "    </tr>\n",
       "  </thead>\n",
       "  <tbody>\n",
       "    <tr>\n",
       "      <th>2004</th>\n",
       "      <td>3.676179e+08</td>\n",
       "    </tr>\n",
       "    <tr>\n",
       "      <th>2005</th>\n",
       "      <td>4.686837e+08</td>\n",
       "    </tr>\n",
       "    <tr>\n",
       "      <th>2006</th>\n",
       "      <td>6.232606e+08</td>\n",
       "    </tr>\n",
       "    <tr>\n",
       "      <th>2007</th>\n",
       "      <td>4.652728e+08</td>\n",
       "    </tr>\n",
       "  </tbody>\n",
       "</table>\n",
       "</div>"
      ],
      "text/plain": [
       "      Gross profit\n",
       "Year              \n",
       "2004  3.676179e+08\n",
       "2005  4.686837e+08\n",
       "2006  6.232606e+08\n",
       "2007  4.652728e+08"
      ]
     },
     "execution_count": 3,
     "metadata": {},
     "output_type": "execute_result"
    }
   ],
   "source": [
    "year_profit = df[['Year','Gross profit']].groupby('Year').sum()\n",
    "year_profit"
   ]
  },
  {
   "cell_type": "code",
   "execution_count": 4,
   "metadata": {
    "collapsed": true
   },
   "outputs": [],
   "source": [
    "year_profit.to_csv('data/year_profit.csv')"
   ]
  },
  {
   "cell_type": "code",
   "execution_count": 6,
   "metadata": {},
   "outputs": [],
   "source": [
    "df_2007 = df[df[\"Year\"]==2007]"
   ]
  },
  {
   "cell_type": "code",
   "execution_count": 11,
   "metadata": {},
   "outputs": [],
   "source": [
    "df_2007 = df_2007.fillna(0)"
   ]
  },
  {
   "cell_type": "code",
   "execution_count": null,
   "metadata": {
    "collapsed": true
   },
   "outputs": [],
   "source": []
  },
  {
   "cell_type": "code",
   "execution_count": 16,
   "metadata": {},
   "outputs": [],
   "source": [
    "gross_by_product_line = df_2007.groupby(\"Product line\",as_index = False).sum()[[\"Product line\",\"Revenue\",\"Gross profit\"]]"
   ]
  },
  {
   "cell_type": "code",
   "execution_count": 18,
   "metadata": {},
   "outputs": [],
   "source": [
    "gross_by_product_line.to_csv(\"data/gross_by_product_line.csv\")"
   ]
  },
  {
   "cell_type": "code",
   "execution_count": null,
   "metadata": {
    "collapsed": true
   },
   "outputs": [],
   "source": []
  }
 ],
 "metadata": {
  "kernelspec": {
   "display_name": "Python 3",
   "language": "python",
   "name": "python3"
  },
  "language_info": {
   "codemirror_mode": {
    "name": "ipython",
    "version": 3
   },
   "file_extension": ".py",
   "mimetype": "text/x-python",
   "name": "python",
   "nbconvert_exporter": "python",
   "pygments_lexer": "ipython3",
   "version": "3.6.3"
  }
 },
 "nbformat": 4,
 "nbformat_minor": 2
}
