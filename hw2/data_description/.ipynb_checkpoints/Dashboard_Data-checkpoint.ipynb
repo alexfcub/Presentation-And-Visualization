{
 "cells": [
  {
   "cell_type": "code",
   "execution_count": 1,
   "metadata": {
    "collapsed": true
   },
   "outputs": [],
   "source": [
    "import pandas as pd"
   ]
  },
  {
   "cell_type": "code",
   "execution_count": 2,
   "metadata": {
    "collapsed": true
   },
   "outputs": [],
   "source": [
    "df = pd.read_csv(\"WA_Retail-SalesMarketing_-ProfitCost.csv\")"
   ]
  },
  {
   "cell_type": "code",
   "execution_count": 3,
   "metadata": {},
   "outputs": [
    {
     "data": {
      "text/html": [
       "<div>\n",
       "<style>\n",
       "    .dataframe thead tr:only-child th {\n",
       "        text-align: right;\n",
       "    }\n",
       "\n",
       "    .dataframe thead th {\n",
       "        text-align: left;\n",
       "    }\n",
       "\n",
       "    .dataframe tbody tr th {\n",
       "        vertical-align: top;\n",
       "    }\n",
       "</style>\n",
       "<table border=\"1\" class=\"dataframe\">\n",
       "  <thead>\n",
       "    <tr style=\"text-align: right;\">\n",
       "      <th></th>\n",
       "      <th>Year</th>\n",
       "      <th>Product line</th>\n",
       "      <th>Product type</th>\n",
       "      <th>Product</th>\n",
       "      <th>Order method type</th>\n",
       "      <th>Retailer country</th>\n",
       "      <th>Revenue</th>\n",
       "      <th>Planned revenue</th>\n",
       "      <th>Product cost</th>\n",
       "      <th>Quantity</th>\n",
       "      <th>Unit cost</th>\n",
       "      <th>Unit price</th>\n",
       "      <th>Gross profit</th>\n",
       "      <th>Unit sale price</th>\n",
       "    </tr>\n",
       "  </thead>\n",
       "  <tbody>\n",
       "    <tr>\n",
       "      <th>0</th>\n",
       "      <td>2004</td>\n",
       "      <td>Camping Equipment</td>\n",
       "      <td>Cooking Gear</td>\n",
       "      <td>TrailChef Water Bag</td>\n",
       "      <td>Telephone</td>\n",
       "      <td>United States</td>\n",
       "      <td>315044.33</td>\n",
       "      <td>437477.15</td>\n",
       "      <td>158371.76</td>\n",
       "      <td>66385.0</td>\n",
       "      <td>2.552857</td>\n",
       "      <td>6.59</td>\n",
       "      <td>156672.57</td>\n",
       "      <td>5.195714</td>\n",
       "    </tr>\n",
       "    <tr>\n",
       "      <th>1</th>\n",
       "      <td>2004</td>\n",
       "      <td>Camping Equipment</td>\n",
       "      <td>Cooking Gear</td>\n",
       "      <td>TrailChef Water Bag</td>\n",
       "      <td>Telephone</td>\n",
       "      <td>Canada</td>\n",
       "      <td>13444.68</td>\n",
       "      <td>14313.48</td>\n",
       "      <td>6298.80</td>\n",
       "      <td>2172.0</td>\n",
       "      <td>2.900000</td>\n",
       "      <td>6.59</td>\n",
       "      <td>7145.88</td>\n",
       "      <td>6.190000</td>\n",
       "    </tr>\n",
       "    <tr>\n",
       "      <th>2</th>\n",
       "      <td>2004</td>\n",
       "      <td>Camping Equipment</td>\n",
       "      <td>Cooking Gear</td>\n",
       "      <td>TrailChef Water Bag</td>\n",
       "      <td>Telephone</td>\n",
       "      <td>Mexico</td>\n",
       "      <td>NaN</td>\n",
       "      <td>NaN</td>\n",
       "      <td>NaN</td>\n",
       "      <td>NaN</td>\n",
       "      <td>NaN</td>\n",
       "      <td>NaN</td>\n",
       "      <td>NaN</td>\n",
       "      <td>NaN</td>\n",
       "    </tr>\n",
       "    <tr>\n",
       "      <th>3</th>\n",
       "      <td>2004</td>\n",
       "      <td>Camping Equipment</td>\n",
       "      <td>Cooking Gear</td>\n",
       "      <td>TrailChef Water Bag</td>\n",
       "      <td>Telephone</td>\n",
       "      <td>Brazil</td>\n",
       "      <td>NaN</td>\n",
       "      <td>NaN</td>\n",
       "      <td>NaN</td>\n",
       "      <td>NaN</td>\n",
       "      <td>NaN</td>\n",
       "      <td>NaN</td>\n",
       "      <td>NaN</td>\n",
       "      <td>NaN</td>\n",
       "    </tr>\n",
       "    <tr>\n",
       "      <th>4</th>\n",
       "      <td>2004</td>\n",
       "      <td>Camping Equipment</td>\n",
       "      <td>Cooking Gear</td>\n",
       "      <td>TrailChef Water Bag</td>\n",
       "      <td>Telephone</td>\n",
       "      <td>Japan</td>\n",
       "      <td>181120.24</td>\n",
       "      <td>235236.64</td>\n",
       "      <td>89413.06</td>\n",
       "      <td>35696.0</td>\n",
       "      <td>2.657000</td>\n",
       "      <td>6.59</td>\n",
       "      <td>91707.18</td>\n",
       "      <td>5.488000</td>\n",
       "    </tr>\n",
       "    <tr>\n",
       "      <th>5</th>\n",
       "      <td>2004</td>\n",
       "      <td>Camping Equipment</td>\n",
       "      <td>Cooking Gear</td>\n",
       "      <td>TrailChef Water Bag</td>\n",
       "      <td>Telephone</td>\n",
       "      <td>Korea</td>\n",
       "      <td>NaN</td>\n",
       "      <td>NaN</td>\n",
       "      <td>NaN</td>\n",
       "      <td>NaN</td>\n",
       "      <td>NaN</td>\n",
       "      <td>NaN</td>\n",
       "      <td>NaN</td>\n",
       "      <td>NaN</td>\n",
       "    </tr>\n",
       "    <tr>\n",
       "      <th>6</th>\n",
       "      <td>2004</td>\n",
       "      <td>Camping Equipment</td>\n",
       "      <td>Cooking Gear</td>\n",
       "      <td>TrailChef Water Bag</td>\n",
       "      <td>Telephone</td>\n",
       "      <td>China</td>\n",
       "      <td>69608.15</td>\n",
       "      <td>100200.95</td>\n",
       "      <td>35326.25</td>\n",
       "      <td>15205.0</td>\n",
       "      <td>2.495000</td>\n",
       "      <td>6.59</td>\n",
       "      <td>34281.90</td>\n",
       "      <td>5.040000</td>\n",
       "    </tr>\n",
       "    <tr>\n",
       "      <th>7</th>\n",
       "      <td>2004</td>\n",
       "      <td>Camping Equipment</td>\n",
       "      <td>Cooking Gear</td>\n",
       "      <td>TrailChef Water Bag</td>\n",
       "      <td>Telephone</td>\n",
       "      <td>Singapore</td>\n",
       "      <td>30940.35</td>\n",
       "      <td>51619.47</td>\n",
       "      <td>16370.97</td>\n",
       "      <td>7833.0</td>\n",
       "      <td>2.090000</td>\n",
       "      <td>6.59</td>\n",
       "      <td>14569.38</td>\n",
       "      <td>3.950000</td>\n",
       "    </tr>\n",
       "    <tr>\n",
       "      <th>8</th>\n",
       "      <td>2004</td>\n",
       "      <td>Camping Equipment</td>\n",
       "      <td>Cooking Gear</td>\n",
       "      <td>TrailChef Water Bag</td>\n",
       "      <td>Telephone</td>\n",
       "      <td>Australia</td>\n",
       "      <td>NaN</td>\n",
       "      <td>NaN</td>\n",
       "      <td>NaN</td>\n",
       "      <td>NaN</td>\n",
       "      <td>NaN</td>\n",
       "      <td>NaN</td>\n",
       "      <td>NaN</td>\n",
       "      <td>NaN</td>\n",
       "    </tr>\n",
       "    <tr>\n",
       "      <th>9</th>\n",
       "      <td>2004</td>\n",
       "      <td>Camping Equipment</td>\n",
       "      <td>Cooking Gear</td>\n",
       "      <td>TrailChef Water Bag</td>\n",
       "      <td>Telephone</td>\n",
       "      <td>Netherlands</td>\n",
       "      <td>74321.18</td>\n",
       "      <td>94421.52</td>\n",
       "      <td>36531.63</td>\n",
       "      <td>14328.0</td>\n",
       "      <td>2.697500</td>\n",
       "      <td>6.59</td>\n",
       "      <td>37789.55</td>\n",
       "      <td>5.585000</td>\n",
       "    </tr>\n",
       "    <tr>\n",
       "      <th>10</th>\n",
       "      <td>2004</td>\n",
       "      <td>Camping Equipment</td>\n",
       "      <td>Cooking Gear</td>\n",
       "      <td>TrailChef Water Bag</td>\n",
       "      <td>Telephone</td>\n",
       "      <td>Sweden</td>\n",
       "      <td>18474.15</td>\n",
       "      <td>30821.43</td>\n",
       "      <td>9774.93</td>\n",
       "      <td>4677.0</td>\n",
       "      <td>2.090000</td>\n",
       "      <td>6.59</td>\n",
       "      <td>8699.22</td>\n",
       "      <td>3.950000</td>\n",
       "    </tr>\n",
       "    <tr>\n",
       "      <th>11</th>\n",
       "      <td>2004</td>\n",
       "      <td>Camping Equipment</td>\n",
       "      <td>Cooking Gear</td>\n",
       "      <td>TrailChef Water Bag</td>\n",
       "      <td>Telephone</td>\n",
       "      <td>Finland</td>\n",
       "      <td>80890.34</td>\n",
       "      <td>117236.10</td>\n",
       "      <td>41021.31</td>\n",
       "      <td>17790.0</td>\n",
       "      <td>2.495000</td>\n",
       "      <td>6.59</td>\n",
       "      <td>39869.03</td>\n",
       "      <td>5.070000</td>\n",
       "    </tr>\n",
       "    <tr>\n",
       "      <th>12</th>\n",
       "      <td>2004</td>\n",
       "      <td>Camping Equipment</td>\n",
       "      <td>Cooking Gear</td>\n",
       "      <td>TrailChef Water Bag</td>\n",
       "      <td>Telephone</td>\n",
       "      <td>Denmark</td>\n",
       "      <td>31746.70</td>\n",
       "      <td>33325.63</td>\n",
       "      <td>14665.30</td>\n",
       "      <td>5057.0</td>\n",
       "      <td>2.900000</td>\n",
       "      <td>6.59</td>\n",
       "      <td>17081.40</td>\n",
       "      <td>6.283333</td>\n",
       "    </tr>\n",
       "    <tr>\n",
       "      <th>13</th>\n",
       "      <td>2004</td>\n",
       "      <td>Camping Equipment</td>\n",
       "      <td>Cooking Gear</td>\n",
       "      <td>TrailChef Water Bag</td>\n",
       "      <td>Telephone</td>\n",
       "      <td>France</td>\n",
       "      <td>103244.26</td>\n",
       "      <td>138113.22</td>\n",
       "      <td>51200.76</td>\n",
       "      <td>20958.0</td>\n",
       "      <td>2.630000</td>\n",
       "      <td>6.59</td>\n",
       "      <td>52043.50</td>\n",
       "      <td>5.443333</td>\n",
       "    </tr>\n",
       "    <tr>\n",
       "      <th>14</th>\n",
       "      <td>2004</td>\n",
       "      <td>Camping Equipment</td>\n",
       "      <td>Cooking Gear</td>\n",
       "      <td>TrailChef Water Bag</td>\n",
       "      <td>Telephone</td>\n",
       "      <td>Germany</td>\n",
       "      <td>NaN</td>\n",
       "      <td>NaN</td>\n",
       "      <td>NaN</td>\n",
       "      <td>NaN</td>\n",
       "      <td>NaN</td>\n",
       "      <td>NaN</td>\n",
       "      <td>NaN</td>\n",
       "      <td>NaN</td>\n",
       "    </tr>\n",
       "    <tr>\n",
       "      <th>15</th>\n",
       "      <td>2004</td>\n",
       "      <td>Camping Equipment</td>\n",
       "      <td>Cooking Gear</td>\n",
       "      <td>TrailChef Water Bag</td>\n",
       "      <td>Telephone</td>\n",
       "      <td>United Kingdom</td>\n",
       "      <td>160227.13</td>\n",
       "      <td>220995.65</td>\n",
       "      <td>80307.11</td>\n",
       "      <td>33535.0</td>\n",
       "      <td>2.576000</td>\n",
       "      <td>6.59</td>\n",
       "      <td>79920.02</td>\n",
       "      <td>5.270000</td>\n",
       "    </tr>\n",
       "    <tr>\n",
       "      <th>16</th>\n",
       "      <td>2004</td>\n",
       "      <td>Camping Equipment</td>\n",
       "      <td>Cooking Gear</td>\n",
       "      <td>TrailChef Water Bag</td>\n",
       "      <td>Telephone</td>\n",
       "      <td>Belgium</td>\n",
       "      <td>NaN</td>\n",
       "      <td>NaN</td>\n",
       "      <td>NaN</td>\n",
       "      <td>NaN</td>\n",
       "      <td>NaN</td>\n",
       "      <td>NaN</td>\n",
       "      <td>NaN</td>\n",
       "      <td>NaN</td>\n",
       "    </tr>\n",
       "    <tr>\n",
       "      <th>17</th>\n",
       "      <td>2004</td>\n",
       "      <td>Camping Equipment</td>\n",
       "      <td>Cooking Gear</td>\n",
       "      <td>TrailChef Water Bag</td>\n",
       "      <td>Telephone</td>\n",
       "      <td>Switzerland</td>\n",
       "      <td>NaN</td>\n",
       "      <td>NaN</td>\n",
       "      <td>NaN</td>\n",
       "      <td>NaN</td>\n",
       "      <td>NaN</td>\n",
       "      <td>NaN</td>\n",
       "      <td>NaN</td>\n",
       "      <td>NaN</td>\n",
       "    </tr>\n",
       "    <tr>\n",
       "      <th>18</th>\n",
       "      <td>2004</td>\n",
       "      <td>Camping Equipment</td>\n",
       "      <td>Cooking Gear</td>\n",
       "      <td>TrailChef Water Bag</td>\n",
       "      <td>Telephone</td>\n",
       "      <td>Austria</td>\n",
       "      <td>67179.39</td>\n",
       "      <td>85399.81</td>\n",
       "      <td>32490.25</td>\n",
       "      <td>12959.0</td>\n",
       "      <td>2.697500</td>\n",
       "      <td>6.59</td>\n",
       "      <td>34689.14</td>\n",
       "      <td>5.750000</td>\n",
       "    </tr>\n",
       "    <tr>\n",
       "      <th>19</th>\n",
       "      <td>2004</td>\n",
       "      <td>Camping Equipment</td>\n",
       "      <td>Cooking Gear</td>\n",
       "      <td>TrailChef Water Bag</td>\n",
       "      <td>Telephone</td>\n",
       "      <td>Italy</td>\n",
       "      <td>NaN</td>\n",
       "      <td>NaN</td>\n",
       "      <td>NaN</td>\n",
       "      <td>NaN</td>\n",
       "      <td>NaN</td>\n",
       "      <td>NaN</td>\n",
       "      <td>NaN</td>\n",
       "      <td>NaN</td>\n",
       "    </tr>\n",
       "    <tr>\n",
       "      <th>20</th>\n",
       "      <td>2004</td>\n",
       "      <td>Camping Equipment</td>\n",
       "      <td>Cooking Gear</td>\n",
       "      <td>TrailChef Water Bag</td>\n",
       "      <td>Telephone</td>\n",
       "      <td>Spain</td>\n",
       "      <td>NaN</td>\n",
       "      <td>NaN</td>\n",
       "      <td>NaN</td>\n",
       "      <td>NaN</td>\n",
       "      <td>NaN</td>\n",
       "      <td>NaN</td>\n",
       "      <td>NaN</td>\n",
       "      <td>NaN</td>\n",
       "    </tr>\n",
       "    <tr>\n",
       "      <th>21</th>\n",
       "      <td>2004</td>\n",
       "      <td>Camping Equipment</td>\n",
       "      <td>Cooking Gear</td>\n",
       "      <td>TrailChef Water Bag</td>\n",
       "      <td>Sales visit</td>\n",
       "      <td>United States</td>\n",
       "      <td>181287.73</td>\n",
       "      <td>222735.41</td>\n",
       "      <td>88348.13</td>\n",
       "      <td>33799.0</td>\n",
       "      <td>2.720000</td>\n",
       "      <td>6.59</td>\n",
       "      <td>92939.60</td>\n",
       "      <td>5.652222</td>\n",
       "    </tr>\n",
       "    <tr>\n",
       "      <th>22</th>\n",
       "      <td>2004</td>\n",
       "      <td>Camping Equipment</td>\n",
       "      <td>Cooking Gear</td>\n",
       "      <td>TrailChef Water Bag</td>\n",
       "      <td>Sales visit</td>\n",
       "      <td>Canada</td>\n",
       "      <td>NaN</td>\n",
       "      <td>NaN</td>\n",
       "      <td>NaN</td>\n",
       "      <td>NaN</td>\n",
       "      <td>NaN</td>\n",
       "      <td>NaN</td>\n",
       "      <td>NaN</td>\n",
       "      <td>NaN</td>\n",
       "    </tr>\n",
       "    <tr>\n",
       "      <th>23</th>\n",
       "      <td>2004</td>\n",
       "      <td>Camping Equipment</td>\n",
       "      <td>Cooking Gear</td>\n",
       "      <td>TrailChef Water Bag</td>\n",
       "      <td>Sales visit</td>\n",
       "      <td>Mexico</td>\n",
       "      <td>133617.26</td>\n",
       "      <td>169942.92</td>\n",
       "      <td>65215.05</td>\n",
       "      <td>25788.0</td>\n",
       "      <td>2.720000</td>\n",
       "      <td>6.59</td>\n",
       "      <td>68402.21</td>\n",
       "      <td>5.723333</td>\n",
       "    </tr>\n",
       "    <tr>\n",
       "      <th>24</th>\n",
       "      <td>2004</td>\n",
       "      <td>Camping Equipment</td>\n",
       "      <td>Cooking Gear</td>\n",
       "      <td>TrailChef Water Bag</td>\n",
       "      <td>Sales visit</td>\n",
       "      <td>Brazil</td>\n",
       "      <td>NaN</td>\n",
       "      <td>NaN</td>\n",
       "      <td>NaN</td>\n",
       "      <td>NaN</td>\n",
       "      <td>NaN</td>\n",
       "      <td>NaN</td>\n",
       "      <td>NaN</td>\n",
       "      <td>NaN</td>\n",
       "    </tr>\n",
       "    <tr>\n",
       "      <th>25</th>\n",
       "      <td>2004</td>\n",
       "      <td>Camping Equipment</td>\n",
       "      <td>Cooking Gear</td>\n",
       "      <td>TrailChef Water Bag</td>\n",
       "      <td>Sales visit</td>\n",
       "      <td>Japan</td>\n",
       "      <td>NaN</td>\n",
       "      <td>NaN</td>\n",
       "      <td>NaN</td>\n",
       "      <td>NaN</td>\n",
       "      <td>NaN</td>\n",
       "      <td>NaN</td>\n",
       "      <td>NaN</td>\n",
       "      <td>NaN</td>\n",
       "    </tr>\n",
       "    <tr>\n",
       "      <th>26</th>\n",
       "      <td>2004</td>\n",
       "      <td>Camping Equipment</td>\n",
       "      <td>Cooking Gear</td>\n",
       "      <td>TrailChef Water Bag</td>\n",
       "      <td>Sales visit</td>\n",
       "      <td>Korea</td>\n",
       "      <td>186696.56</td>\n",
       "      <td>238492.10</td>\n",
       "      <td>91891.37</td>\n",
       "      <td>36190.0</td>\n",
       "      <td>2.697500</td>\n",
       "      <td>6.59</td>\n",
       "      <td>94805.19</td>\n",
       "      <td>5.585000</td>\n",
       "    </tr>\n",
       "    <tr>\n",
       "      <th>27</th>\n",
       "      <td>2004</td>\n",
       "      <td>Camping Equipment</td>\n",
       "      <td>Cooking Gear</td>\n",
       "      <td>TrailChef Water Bag</td>\n",
       "      <td>Sales visit</td>\n",
       "      <td>China</td>\n",
       "      <td>NaN</td>\n",
       "      <td>NaN</td>\n",
       "      <td>NaN</td>\n",
       "      <td>NaN</td>\n",
       "      <td>NaN</td>\n",
       "      <td>NaN</td>\n",
       "      <td>NaN</td>\n",
       "      <td>NaN</td>\n",
       "    </tr>\n",
       "    <tr>\n",
       "      <th>28</th>\n",
       "      <td>2004</td>\n",
       "      <td>Camping Equipment</td>\n",
       "      <td>Cooking Gear</td>\n",
       "      <td>TrailChef Water Bag</td>\n",
       "      <td>Sales visit</td>\n",
       "      <td>Singapore</td>\n",
       "      <td>118193.46</td>\n",
       "      <td>161665.88</td>\n",
       "      <td>59183.15</td>\n",
       "      <td>24532.0</td>\n",
       "      <td>2.576000</td>\n",
       "      <td>6.59</td>\n",
       "      <td>59010.31</td>\n",
       "      <td>5.258000</td>\n",
       "    </tr>\n",
       "    <tr>\n",
       "      <th>29</th>\n",
       "      <td>2004</td>\n",
       "      <td>Camping Equipment</td>\n",
       "      <td>Cooking Gear</td>\n",
       "      <td>TrailChef Water Bag</td>\n",
       "      <td>Sales visit</td>\n",
       "      <td>Australia</td>\n",
       "      <td>NaN</td>\n",
       "      <td>NaN</td>\n",
       "      <td>NaN</td>\n",
       "      <td>NaN</td>\n",
       "      <td>NaN</td>\n",
       "      <td>NaN</td>\n",
       "      <td>NaN</td>\n",
       "      <td>NaN</td>\n",
       "    </tr>\n",
       "    <tr>\n",
       "      <th>...</th>\n",
       "      <td>...</td>\n",
       "      <td>...</td>\n",
       "      <td>...</td>\n",
       "      <td>...</td>\n",
       "      <td>...</td>\n",
       "      <td>...</td>\n",
       "      <td>...</td>\n",
       "      <td>...</td>\n",
       "      <td>...</td>\n",
       "      <td>...</td>\n",
       "      <td>...</td>\n",
       "      <td>...</td>\n",
       "      <td>...</td>\n",
       "      <td>...</td>\n",
       "    </tr>\n",
       "    <tr>\n",
       "      <th>84642</th>\n",
       "      <td>2007</td>\n",
       "      <td>Mountaineering Equipment</td>\n",
       "      <td>Tools</td>\n",
       "      <td>Granite Extreme</td>\n",
       "      <td>E-mail</td>\n",
       "      <td>Denmark</td>\n",
       "      <td>NaN</td>\n",
       "      <td>NaN</td>\n",
       "      <td>NaN</td>\n",
       "      <td>NaN</td>\n",
       "      <td>NaN</td>\n",
       "      <td>NaN</td>\n",
       "      <td>NaN</td>\n",
       "      <td>NaN</td>\n",
       "    </tr>\n",
       "    <tr>\n",
       "      <th>84643</th>\n",
       "      <td>2007</td>\n",
       "      <td>Mountaineering Equipment</td>\n",
       "      <td>Tools</td>\n",
       "      <td>Granite Extreme</td>\n",
       "      <td>E-mail</td>\n",
       "      <td>France</td>\n",
       "      <td>NaN</td>\n",
       "      <td>NaN</td>\n",
       "      <td>NaN</td>\n",
       "      <td>NaN</td>\n",
       "      <td>NaN</td>\n",
       "      <td>NaN</td>\n",
       "      <td>NaN</td>\n",
       "      <td>NaN</td>\n",
       "    </tr>\n",
       "    <tr>\n",
       "      <th>84644</th>\n",
       "      <td>2007</td>\n",
       "      <td>Mountaineering Equipment</td>\n",
       "      <td>Tools</td>\n",
       "      <td>Granite Extreme</td>\n",
       "      <td>E-mail</td>\n",
       "      <td>Germany</td>\n",
       "      <td>NaN</td>\n",
       "      <td>NaN</td>\n",
       "      <td>NaN</td>\n",
       "      <td>NaN</td>\n",
       "      <td>NaN</td>\n",
       "      <td>NaN</td>\n",
       "      <td>NaN</td>\n",
       "      <td>NaN</td>\n",
       "    </tr>\n",
       "    <tr>\n",
       "      <th>84645</th>\n",
       "      <td>2007</td>\n",
       "      <td>Mountaineering Equipment</td>\n",
       "      <td>Tools</td>\n",
       "      <td>Granite Extreme</td>\n",
       "      <td>E-mail</td>\n",
       "      <td>United Kingdom</td>\n",
       "      <td>NaN</td>\n",
       "      <td>NaN</td>\n",
       "      <td>NaN</td>\n",
       "      <td>NaN</td>\n",
       "      <td>NaN</td>\n",
       "      <td>NaN</td>\n",
       "      <td>NaN</td>\n",
       "      <td>NaN</td>\n",
       "    </tr>\n",
       "    <tr>\n",
       "      <th>84646</th>\n",
       "      <td>2007</td>\n",
       "      <td>Mountaineering Equipment</td>\n",
       "      <td>Tools</td>\n",
       "      <td>Granite Extreme</td>\n",
       "      <td>E-mail</td>\n",
       "      <td>Belgium</td>\n",
       "      <td>NaN</td>\n",
       "      <td>NaN</td>\n",
       "      <td>NaN</td>\n",
       "      <td>NaN</td>\n",
       "      <td>NaN</td>\n",
       "      <td>NaN</td>\n",
       "      <td>NaN</td>\n",
       "      <td>NaN</td>\n",
       "    </tr>\n",
       "    <tr>\n",
       "      <th>84647</th>\n",
       "      <td>2007</td>\n",
       "      <td>Mountaineering Equipment</td>\n",
       "      <td>Tools</td>\n",
       "      <td>Granite Extreme</td>\n",
       "      <td>E-mail</td>\n",
       "      <td>Switzerland</td>\n",
       "      <td>NaN</td>\n",
       "      <td>NaN</td>\n",
       "      <td>NaN</td>\n",
       "      <td>NaN</td>\n",
       "      <td>NaN</td>\n",
       "      <td>NaN</td>\n",
       "      <td>NaN</td>\n",
       "      <td>NaN</td>\n",
       "    </tr>\n",
       "    <tr>\n",
       "      <th>84648</th>\n",
       "      <td>2007</td>\n",
       "      <td>Mountaineering Equipment</td>\n",
       "      <td>Tools</td>\n",
       "      <td>Granite Extreme</td>\n",
       "      <td>E-mail</td>\n",
       "      <td>Austria</td>\n",
       "      <td>NaN</td>\n",
       "      <td>NaN</td>\n",
       "      <td>NaN</td>\n",
       "      <td>NaN</td>\n",
       "      <td>NaN</td>\n",
       "      <td>NaN</td>\n",
       "      <td>NaN</td>\n",
       "      <td>NaN</td>\n",
       "    </tr>\n",
       "    <tr>\n",
       "      <th>84649</th>\n",
       "      <td>2007</td>\n",
       "      <td>Mountaineering Equipment</td>\n",
       "      <td>Tools</td>\n",
       "      <td>Granite Extreme</td>\n",
       "      <td>E-mail</td>\n",
       "      <td>Italy</td>\n",
       "      <td>NaN</td>\n",
       "      <td>NaN</td>\n",
       "      <td>NaN</td>\n",
       "      <td>NaN</td>\n",
       "      <td>NaN</td>\n",
       "      <td>NaN</td>\n",
       "      <td>NaN</td>\n",
       "      <td>NaN</td>\n",
       "    </tr>\n",
       "    <tr>\n",
       "      <th>84650</th>\n",
       "      <td>2007</td>\n",
       "      <td>Mountaineering Equipment</td>\n",
       "      <td>Tools</td>\n",
       "      <td>Granite Extreme</td>\n",
       "      <td>E-mail</td>\n",
       "      <td>Spain</td>\n",
       "      <td>NaN</td>\n",
       "      <td>NaN</td>\n",
       "      <td>NaN</td>\n",
       "      <td>NaN</td>\n",
       "      <td>NaN</td>\n",
       "      <td>NaN</td>\n",
       "      <td>NaN</td>\n",
       "      <td>NaN</td>\n",
       "    </tr>\n",
       "    <tr>\n",
       "      <th>84651</th>\n",
       "      <td>2007</td>\n",
       "      <td>Mountaineering Equipment</td>\n",
       "      <td>Tools</td>\n",
       "      <td>Granite Extreme</td>\n",
       "      <td>Fax</td>\n",
       "      <td>United States</td>\n",
       "      <td>NaN</td>\n",
       "      <td>NaN</td>\n",
       "      <td>NaN</td>\n",
       "      <td>NaN</td>\n",
       "      <td>NaN</td>\n",
       "      <td>NaN</td>\n",
       "      <td>NaN</td>\n",
       "      <td>NaN</td>\n",
       "    </tr>\n",
       "    <tr>\n",
       "      <th>84652</th>\n",
       "      <td>2007</td>\n",
       "      <td>Mountaineering Equipment</td>\n",
       "      <td>Tools</td>\n",
       "      <td>Granite Extreme</td>\n",
       "      <td>Fax</td>\n",
       "      <td>Canada</td>\n",
       "      <td>NaN</td>\n",
       "      <td>NaN</td>\n",
       "      <td>NaN</td>\n",
       "      <td>NaN</td>\n",
       "      <td>NaN</td>\n",
       "      <td>NaN</td>\n",
       "      <td>NaN</td>\n",
       "      <td>NaN</td>\n",
       "    </tr>\n",
       "    <tr>\n",
       "      <th>84653</th>\n",
       "      <td>2007</td>\n",
       "      <td>Mountaineering Equipment</td>\n",
       "      <td>Tools</td>\n",
       "      <td>Granite Extreme</td>\n",
       "      <td>Fax</td>\n",
       "      <td>Mexico</td>\n",
       "      <td>NaN</td>\n",
       "      <td>NaN</td>\n",
       "      <td>NaN</td>\n",
       "      <td>NaN</td>\n",
       "      <td>NaN</td>\n",
       "      <td>NaN</td>\n",
       "      <td>NaN</td>\n",
       "      <td>NaN</td>\n",
       "    </tr>\n",
       "    <tr>\n",
       "      <th>84654</th>\n",
       "      <td>2007</td>\n",
       "      <td>Mountaineering Equipment</td>\n",
       "      <td>Tools</td>\n",
       "      <td>Granite Extreme</td>\n",
       "      <td>Fax</td>\n",
       "      <td>Brazil</td>\n",
       "      <td>NaN</td>\n",
       "      <td>NaN</td>\n",
       "      <td>NaN</td>\n",
       "      <td>NaN</td>\n",
       "      <td>NaN</td>\n",
       "      <td>NaN</td>\n",
       "      <td>NaN</td>\n",
       "      <td>NaN</td>\n",
       "    </tr>\n",
       "    <tr>\n",
       "      <th>84655</th>\n",
       "      <td>2007</td>\n",
       "      <td>Mountaineering Equipment</td>\n",
       "      <td>Tools</td>\n",
       "      <td>Granite Extreme</td>\n",
       "      <td>Fax</td>\n",
       "      <td>Japan</td>\n",
       "      <td>NaN</td>\n",
       "      <td>NaN</td>\n",
       "      <td>NaN</td>\n",
       "      <td>NaN</td>\n",
       "      <td>NaN</td>\n",
       "      <td>NaN</td>\n",
       "      <td>NaN</td>\n",
       "      <td>NaN</td>\n",
       "    </tr>\n",
       "    <tr>\n",
       "      <th>84656</th>\n",
       "      <td>2007</td>\n",
       "      <td>Mountaineering Equipment</td>\n",
       "      <td>Tools</td>\n",
       "      <td>Granite Extreme</td>\n",
       "      <td>Fax</td>\n",
       "      <td>Korea</td>\n",
       "      <td>NaN</td>\n",
       "      <td>NaN</td>\n",
       "      <td>NaN</td>\n",
       "      <td>NaN</td>\n",
       "      <td>NaN</td>\n",
       "      <td>NaN</td>\n",
       "      <td>NaN</td>\n",
       "      <td>NaN</td>\n",
       "    </tr>\n",
       "    <tr>\n",
       "      <th>84657</th>\n",
       "      <td>2007</td>\n",
       "      <td>Mountaineering Equipment</td>\n",
       "      <td>Tools</td>\n",
       "      <td>Granite Extreme</td>\n",
       "      <td>Fax</td>\n",
       "      <td>China</td>\n",
       "      <td>NaN</td>\n",
       "      <td>NaN</td>\n",
       "      <td>NaN</td>\n",
       "      <td>NaN</td>\n",
       "      <td>NaN</td>\n",
       "      <td>NaN</td>\n",
       "      <td>NaN</td>\n",
       "      <td>NaN</td>\n",
       "    </tr>\n",
       "    <tr>\n",
       "      <th>84658</th>\n",
       "      <td>2007</td>\n",
       "      <td>Mountaineering Equipment</td>\n",
       "      <td>Tools</td>\n",
       "      <td>Granite Extreme</td>\n",
       "      <td>Fax</td>\n",
       "      <td>Singapore</td>\n",
       "      <td>NaN</td>\n",
       "      <td>NaN</td>\n",
       "      <td>NaN</td>\n",
       "      <td>NaN</td>\n",
       "      <td>NaN</td>\n",
       "      <td>NaN</td>\n",
       "      <td>NaN</td>\n",
       "      <td>NaN</td>\n",
       "    </tr>\n",
       "    <tr>\n",
       "      <th>84659</th>\n",
       "      <td>2007</td>\n",
       "      <td>Mountaineering Equipment</td>\n",
       "      <td>Tools</td>\n",
       "      <td>Granite Extreme</td>\n",
       "      <td>Fax</td>\n",
       "      <td>Australia</td>\n",
       "      <td>NaN</td>\n",
       "      <td>NaN</td>\n",
       "      <td>NaN</td>\n",
       "      <td>NaN</td>\n",
       "      <td>NaN</td>\n",
       "      <td>NaN</td>\n",
       "      <td>NaN</td>\n",
       "      <td>NaN</td>\n",
       "    </tr>\n",
       "    <tr>\n",
       "      <th>84660</th>\n",
       "      <td>2007</td>\n",
       "      <td>Mountaineering Equipment</td>\n",
       "      <td>Tools</td>\n",
       "      <td>Granite Extreme</td>\n",
       "      <td>Fax</td>\n",
       "      <td>Netherlands</td>\n",
       "      <td>NaN</td>\n",
       "      <td>NaN</td>\n",
       "      <td>NaN</td>\n",
       "      <td>NaN</td>\n",
       "      <td>NaN</td>\n",
       "      <td>NaN</td>\n",
       "      <td>NaN</td>\n",
       "      <td>NaN</td>\n",
       "    </tr>\n",
       "    <tr>\n",
       "      <th>84661</th>\n",
       "      <td>2007</td>\n",
       "      <td>Mountaineering Equipment</td>\n",
       "      <td>Tools</td>\n",
       "      <td>Granite Extreme</td>\n",
       "      <td>Fax</td>\n",
       "      <td>Sweden</td>\n",
       "      <td>NaN</td>\n",
       "      <td>NaN</td>\n",
       "      <td>NaN</td>\n",
       "      <td>NaN</td>\n",
       "      <td>NaN</td>\n",
       "      <td>NaN</td>\n",
       "      <td>NaN</td>\n",
       "      <td>NaN</td>\n",
       "    </tr>\n",
       "    <tr>\n",
       "      <th>84662</th>\n",
       "      <td>2007</td>\n",
       "      <td>Mountaineering Equipment</td>\n",
       "      <td>Tools</td>\n",
       "      <td>Granite Extreme</td>\n",
       "      <td>Fax</td>\n",
       "      <td>Finland</td>\n",
       "      <td>NaN</td>\n",
       "      <td>NaN</td>\n",
       "      <td>NaN</td>\n",
       "      <td>NaN</td>\n",
       "      <td>NaN</td>\n",
       "      <td>NaN</td>\n",
       "      <td>NaN</td>\n",
       "      <td>NaN</td>\n",
       "    </tr>\n",
       "    <tr>\n",
       "      <th>84663</th>\n",
       "      <td>2007</td>\n",
       "      <td>Mountaineering Equipment</td>\n",
       "      <td>Tools</td>\n",
       "      <td>Granite Extreme</td>\n",
       "      <td>Fax</td>\n",
       "      <td>Denmark</td>\n",
       "      <td>NaN</td>\n",
       "      <td>NaN</td>\n",
       "      <td>NaN</td>\n",
       "      <td>NaN</td>\n",
       "      <td>NaN</td>\n",
       "      <td>NaN</td>\n",
       "      <td>NaN</td>\n",
       "      <td>NaN</td>\n",
       "    </tr>\n",
       "    <tr>\n",
       "      <th>84664</th>\n",
       "      <td>2007</td>\n",
       "      <td>Mountaineering Equipment</td>\n",
       "      <td>Tools</td>\n",
       "      <td>Granite Extreme</td>\n",
       "      <td>Fax</td>\n",
       "      <td>France</td>\n",
       "      <td>NaN</td>\n",
       "      <td>NaN</td>\n",
       "      <td>NaN</td>\n",
       "      <td>NaN</td>\n",
       "      <td>NaN</td>\n",
       "      <td>NaN</td>\n",
       "      <td>NaN</td>\n",
       "      <td>NaN</td>\n",
       "    </tr>\n",
       "    <tr>\n",
       "      <th>84665</th>\n",
       "      <td>2007</td>\n",
       "      <td>Mountaineering Equipment</td>\n",
       "      <td>Tools</td>\n",
       "      <td>Granite Extreme</td>\n",
       "      <td>Fax</td>\n",
       "      <td>Germany</td>\n",
       "      <td>NaN</td>\n",
       "      <td>NaN</td>\n",
       "      <td>NaN</td>\n",
       "      <td>NaN</td>\n",
       "      <td>NaN</td>\n",
       "      <td>NaN</td>\n",
       "      <td>NaN</td>\n",
       "      <td>NaN</td>\n",
       "    </tr>\n",
       "    <tr>\n",
       "      <th>84666</th>\n",
       "      <td>2007</td>\n",
       "      <td>Mountaineering Equipment</td>\n",
       "      <td>Tools</td>\n",
       "      <td>Granite Extreme</td>\n",
       "      <td>Fax</td>\n",
       "      <td>United Kingdom</td>\n",
       "      <td>NaN</td>\n",
       "      <td>NaN</td>\n",
       "      <td>NaN</td>\n",
       "      <td>NaN</td>\n",
       "      <td>NaN</td>\n",
       "      <td>NaN</td>\n",
       "      <td>NaN</td>\n",
       "      <td>NaN</td>\n",
       "    </tr>\n",
       "    <tr>\n",
       "      <th>84667</th>\n",
       "      <td>2007</td>\n",
       "      <td>Mountaineering Equipment</td>\n",
       "      <td>Tools</td>\n",
       "      <td>Granite Extreme</td>\n",
       "      <td>Fax</td>\n",
       "      <td>Belgium</td>\n",
       "      <td>NaN</td>\n",
       "      <td>NaN</td>\n",
       "      <td>NaN</td>\n",
       "      <td>NaN</td>\n",
       "      <td>NaN</td>\n",
       "      <td>NaN</td>\n",
       "      <td>NaN</td>\n",
       "      <td>NaN</td>\n",
       "    </tr>\n",
       "    <tr>\n",
       "      <th>84668</th>\n",
       "      <td>2007</td>\n",
       "      <td>Mountaineering Equipment</td>\n",
       "      <td>Tools</td>\n",
       "      <td>Granite Extreme</td>\n",
       "      <td>Fax</td>\n",
       "      <td>Switzerland</td>\n",
       "      <td>NaN</td>\n",
       "      <td>NaN</td>\n",
       "      <td>NaN</td>\n",
       "      <td>NaN</td>\n",
       "      <td>NaN</td>\n",
       "      <td>NaN</td>\n",
       "      <td>NaN</td>\n",
       "      <td>NaN</td>\n",
       "    </tr>\n",
       "    <tr>\n",
       "      <th>84669</th>\n",
       "      <td>2007</td>\n",
       "      <td>Mountaineering Equipment</td>\n",
       "      <td>Tools</td>\n",
       "      <td>Granite Extreme</td>\n",
       "      <td>Fax</td>\n",
       "      <td>Austria</td>\n",
       "      <td>NaN</td>\n",
       "      <td>NaN</td>\n",
       "      <td>NaN</td>\n",
       "      <td>NaN</td>\n",
       "      <td>NaN</td>\n",
       "      <td>NaN</td>\n",
       "      <td>NaN</td>\n",
       "      <td>NaN</td>\n",
       "    </tr>\n",
       "    <tr>\n",
       "      <th>84670</th>\n",
       "      <td>2007</td>\n",
       "      <td>Mountaineering Equipment</td>\n",
       "      <td>Tools</td>\n",
       "      <td>Granite Extreme</td>\n",
       "      <td>Fax</td>\n",
       "      <td>Italy</td>\n",
       "      <td>NaN</td>\n",
       "      <td>NaN</td>\n",
       "      <td>NaN</td>\n",
       "      <td>NaN</td>\n",
       "      <td>NaN</td>\n",
       "      <td>NaN</td>\n",
       "      <td>NaN</td>\n",
       "      <td>NaN</td>\n",
       "    </tr>\n",
       "    <tr>\n",
       "      <th>84671</th>\n",
       "      <td>2007</td>\n",
       "      <td>Mountaineering Equipment</td>\n",
       "      <td>Tools</td>\n",
       "      <td>Granite Extreme</td>\n",
       "      <td>Fax</td>\n",
       "      <td>Spain</td>\n",
       "      <td>NaN</td>\n",
       "      <td>NaN</td>\n",
       "      <td>NaN</td>\n",
       "      <td>NaN</td>\n",
       "      <td>NaN</td>\n",
       "      <td>NaN</td>\n",
       "      <td>NaN</td>\n",
       "      <td>NaN</td>\n",
       "    </tr>\n",
       "  </tbody>\n",
       "</table>\n",
       "<p>84672 rows × 14 columns</p>\n",
       "</div>"
      ],
      "text/plain": [
       "       Year              Product line  Product type              Product  \\\n",
       "0      2004         Camping Equipment  Cooking Gear  TrailChef Water Bag   \n",
       "1      2004         Camping Equipment  Cooking Gear  TrailChef Water Bag   \n",
       "2      2004         Camping Equipment  Cooking Gear  TrailChef Water Bag   \n",
       "3      2004         Camping Equipment  Cooking Gear  TrailChef Water Bag   \n",
       "4      2004         Camping Equipment  Cooking Gear  TrailChef Water Bag   \n",
       "5      2004         Camping Equipment  Cooking Gear  TrailChef Water Bag   \n",
       "6      2004         Camping Equipment  Cooking Gear  TrailChef Water Bag   \n",
       "7      2004         Camping Equipment  Cooking Gear  TrailChef Water Bag   \n",
       "8      2004         Camping Equipment  Cooking Gear  TrailChef Water Bag   \n",
       "9      2004         Camping Equipment  Cooking Gear  TrailChef Water Bag   \n",
       "10     2004         Camping Equipment  Cooking Gear  TrailChef Water Bag   \n",
       "11     2004         Camping Equipment  Cooking Gear  TrailChef Water Bag   \n",
       "12     2004         Camping Equipment  Cooking Gear  TrailChef Water Bag   \n",
       "13     2004         Camping Equipment  Cooking Gear  TrailChef Water Bag   \n",
       "14     2004         Camping Equipment  Cooking Gear  TrailChef Water Bag   \n",
       "15     2004         Camping Equipment  Cooking Gear  TrailChef Water Bag   \n",
       "16     2004         Camping Equipment  Cooking Gear  TrailChef Water Bag   \n",
       "17     2004         Camping Equipment  Cooking Gear  TrailChef Water Bag   \n",
       "18     2004         Camping Equipment  Cooking Gear  TrailChef Water Bag   \n",
       "19     2004         Camping Equipment  Cooking Gear  TrailChef Water Bag   \n",
       "20     2004         Camping Equipment  Cooking Gear  TrailChef Water Bag   \n",
       "21     2004         Camping Equipment  Cooking Gear  TrailChef Water Bag   \n",
       "22     2004         Camping Equipment  Cooking Gear  TrailChef Water Bag   \n",
       "23     2004         Camping Equipment  Cooking Gear  TrailChef Water Bag   \n",
       "24     2004         Camping Equipment  Cooking Gear  TrailChef Water Bag   \n",
       "25     2004         Camping Equipment  Cooking Gear  TrailChef Water Bag   \n",
       "26     2004         Camping Equipment  Cooking Gear  TrailChef Water Bag   \n",
       "27     2004         Camping Equipment  Cooking Gear  TrailChef Water Bag   \n",
       "28     2004         Camping Equipment  Cooking Gear  TrailChef Water Bag   \n",
       "29     2004         Camping Equipment  Cooking Gear  TrailChef Water Bag   \n",
       "...     ...                       ...           ...                  ...   \n",
       "84642  2007  Mountaineering Equipment         Tools      Granite Extreme   \n",
       "84643  2007  Mountaineering Equipment         Tools      Granite Extreme   \n",
       "84644  2007  Mountaineering Equipment         Tools      Granite Extreme   \n",
       "84645  2007  Mountaineering Equipment         Tools      Granite Extreme   \n",
       "84646  2007  Mountaineering Equipment         Tools      Granite Extreme   \n",
       "84647  2007  Mountaineering Equipment         Tools      Granite Extreme   \n",
       "84648  2007  Mountaineering Equipment         Tools      Granite Extreme   \n",
       "84649  2007  Mountaineering Equipment         Tools      Granite Extreme   \n",
       "84650  2007  Mountaineering Equipment         Tools      Granite Extreme   \n",
       "84651  2007  Mountaineering Equipment         Tools      Granite Extreme   \n",
       "84652  2007  Mountaineering Equipment         Tools      Granite Extreme   \n",
       "84653  2007  Mountaineering Equipment         Tools      Granite Extreme   \n",
       "84654  2007  Mountaineering Equipment         Tools      Granite Extreme   \n",
       "84655  2007  Mountaineering Equipment         Tools      Granite Extreme   \n",
       "84656  2007  Mountaineering Equipment         Tools      Granite Extreme   \n",
       "84657  2007  Mountaineering Equipment         Tools      Granite Extreme   \n",
       "84658  2007  Mountaineering Equipment         Tools      Granite Extreme   \n",
       "84659  2007  Mountaineering Equipment         Tools      Granite Extreme   \n",
       "84660  2007  Mountaineering Equipment         Tools      Granite Extreme   \n",
       "84661  2007  Mountaineering Equipment         Tools      Granite Extreme   \n",
       "84662  2007  Mountaineering Equipment         Tools      Granite Extreme   \n",
       "84663  2007  Mountaineering Equipment         Tools      Granite Extreme   \n",
       "84664  2007  Mountaineering Equipment         Tools      Granite Extreme   \n",
       "84665  2007  Mountaineering Equipment         Tools      Granite Extreme   \n",
       "84666  2007  Mountaineering Equipment         Tools      Granite Extreme   \n",
       "84667  2007  Mountaineering Equipment         Tools      Granite Extreme   \n",
       "84668  2007  Mountaineering Equipment         Tools      Granite Extreme   \n",
       "84669  2007  Mountaineering Equipment         Tools      Granite Extreme   \n",
       "84670  2007  Mountaineering Equipment         Tools      Granite Extreme   \n",
       "84671  2007  Mountaineering Equipment         Tools      Granite Extreme   \n",
       "\n",
       "      Order method type Retailer country    Revenue  Planned revenue  \\\n",
       "0             Telephone    United States  315044.33        437477.15   \n",
       "1             Telephone           Canada   13444.68         14313.48   \n",
       "2             Telephone           Mexico        NaN              NaN   \n",
       "3             Telephone           Brazil        NaN              NaN   \n",
       "4             Telephone            Japan  181120.24        235236.64   \n",
       "5             Telephone            Korea        NaN              NaN   \n",
       "6             Telephone            China   69608.15        100200.95   \n",
       "7             Telephone        Singapore   30940.35         51619.47   \n",
       "8             Telephone        Australia        NaN              NaN   \n",
       "9             Telephone      Netherlands   74321.18         94421.52   \n",
       "10            Telephone           Sweden   18474.15         30821.43   \n",
       "11            Telephone          Finland   80890.34        117236.10   \n",
       "12            Telephone          Denmark   31746.70         33325.63   \n",
       "13            Telephone           France  103244.26        138113.22   \n",
       "14            Telephone          Germany        NaN              NaN   \n",
       "15            Telephone   United Kingdom  160227.13        220995.65   \n",
       "16            Telephone          Belgium        NaN              NaN   \n",
       "17            Telephone      Switzerland        NaN              NaN   \n",
       "18            Telephone          Austria   67179.39         85399.81   \n",
       "19            Telephone            Italy        NaN              NaN   \n",
       "20            Telephone            Spain        NaN              NaN   \n",
       "21          Sales visit    United States  181287.73        222735.41   \n",
       "22          Sales visit           Canada        NaN              NaN   \n",
       "23          Sales visit           Mexico  133617.26        169942.92   \n",
       "24          Sales visit           Brazil        NaN              NaN   \n",
       "25          Sales visit            Japan        NaN              NaN   \n",
       "26          Sales visit            Korea  186696.56        238492.10   \n",
       "27          Sales visit            China        NaN              NaN   \n",
       "28          Sales visit        Singapore  118193.46        161665.88   \n",
       "29          Sales visit        Australia        NaN              NaN   \n",
       "...                 ...              ...        ...              ...   \n",
       "84642            E-mail          Denmark        NaN              NaN   \n",
       "84643            E-mail           France        NaN              NaN   \n",
       "84644            E-mail          Germany        NaN              NaN   \n",
       "84645            E-mail   United Kingdom        NaN              NaN   \n",
       "84646            E-mail          Belgium        NaN              NaN   \n",
       "84647            E-mail      Switzerland        NaN              NaN   \n",
       "84648            E-mail          Austria        NaN              NaN   \n",
       "84649            E-mail            Italy        NaN              NaN   \n",
       "84650            E-mail            Spain        NaN              NaN   \n",
       "84651               Fax    United States        NaN              NaN   \n",
       "84652               Fax           Canada        NaN              NaN   \n",
       "84653               Fax           Mexico        NaN              NaN   \n",
       "84654               Fax           Brazil        NaN              NaN   \n",
       "84655               Fax            Japan        NaN              NaN   \n",
       "84656               Fax            Korea        NaN              NaN   \n",
       "84657               Fax            China        NaN              NaN   \n",
       "84658               Fax        Singapore        NaN              NaN   \n",
       "84659               Fax        Australia        NaN              NaN   \n",
       "84660               Fax      Netherlands        NaN              NaN   \n",
       "84661               Fax           Sweden        NaN              NaN   \n",
       "84662               Fax          Finland        NaN              NaN   \n",
       "84663               Fax          Denmark        NaN              NaN   \n",
       "84664               Fax           France        NaN              NaN   \n",
       "84665               Fax          Germany        NaN              NaN   \n",
       "84666               Fax   United Kingdom        NaN              NaN   \n",
       "84667               Fax          Belgium        NaN              NaN   \n",
       "84668               Fax      Switzerland        NaN              NaN   \n",
       "84669               Fax          Austria        NaN              NaN   \n",
       "84670               Fax            Italy        NaN              NaN   \n",
       "84671               Fax            Spain        NaN              NaN   \n",
       "\n",
       "       Product cost  Quantity  Unit cost  Unit price  Gross profit  \\\n",
       "0         158371.76   66385.0   2.552857        6.59     156672.57   \n",
       "1           6298.80    2172.0   2.900000        6.59       7145.88   \n",
       "2               NaN       NaN        NaN         NaN           NaN   \n",
       "3               NaN       NaN        NaN         NaN           NaN   \n",
       "4          89413.06   35696.0   2.657000        6.59      91707.18   \n",
       "5               NaN       NaN        NaN         NaN           NaN   \n",
       "6          35326.25   15205.0   2.495000        6.59      34281.90   \n",
       "7          16370.97    7833.0   2.090000        6.59      14569.38   \n",
       "8               NaN       NaN        NaN         NaN           NaN   \n",
       "9          36531.63   14328.0   2.697500        6.59      37789.55   \n",
       "10          9774.93    4677.0   2.090000        6.59       8699.22   \n",
       "11         41021.31   17790.0   2.495000        6.59      39869.03   \n",
       "12         14665.30    5057.0   2.900000        6.59      17081.40   \n",
       "13         51200.76   20958.0   2.630000        6.59      52043.50   \n",
       "14              NaN       NaN        NaN         NaN           NaN   \n",
       "15         80307.11   33535.0   2.576000        6.59      79920.02   \n",
       "16              NaN       NaN        NaN         NaN           NaN   \n",
       "17              NaN       NaN        NaN         NaN           NaN   \n",
       "18         32490.25   12959.0   2.697500        6.59      34689.14   \n",
       "19              NaN       NaN        NaN         NaN           NaN   \n",
       "20              NaN       NaN        NaN         NaN           NaN   \n",
       "21         88348.13   33799.0   2.720000        6.59      92939.60   \n",
       "22              NaN       NaN        NaN         NaN           NaN   \n",
       "23         65215.05   25788.0   2.720000        6.59      68402.21   \n",
       "24              NaN       NaN        NaN         NaN           NaN   \n",
       "25              NaN       NaN        NaN         NaN           NaN   \n",
       "26         91891.37   36190.0   2.697500        6.59      94805.19   \n",
       "27              NaN       NaN        NaN         NaN           NaN   \n",
       "28         59183.15   24532.0   2.576000        6.59      59010.31   \n",
       "29              NaN       NaN        NaN         NaN           NaN   \n",
       "...             ...       ...        ...         ...           ...   \n",
       "84642           NaN       NaN        NaN         NaN           NaN   \n",
       "84643           NaN       NaN        NaN         NaN           NaN   \n",
       "84644           NaN       NaN        NaN         NaN           NaN   \n",
       "84645           NaN       NaN        NaN         NaN           NaN   \n",
       "84646           NaN       NaN        NaN         NaN           NaN   \n",
       "84647           NaN       NaN        NaN         NaN           NaN   \n",
       "84648           NaN       NaN        NaN         NaN           NaN   \n",
       "84649           NaN       NaN        NaN         NaN           NaN   \n",
       "84650           NaN       NaN        NaN         NaN           NaN   \n",
       "84651           NaN       NaN        NaN         NaN           NaN   \n",
       "84652           NaN       NaN        NaN         NaN           NaN   \n",
       "84653           NaN       NaN        NaN         NaN           NaN   \n",
       "84654           NaN       NaN        NaN         NaN           NaN   \n",
       "84655           NaN       NaN        NaN         NaN           NaN   \n",
       "84656           NaN       NaN        NaN         NaN           NaN   \n",
       "84657           NaN       NaN        NaN         NaN           NaN   \n",
       "84658           NaN       NaN        NaN         NaN           NaN   \n",
       "84659           NaN       NaN        NaN         NaN           NaN   \n",
       "84660           NaN       NaN        NaN         NaN           NaN   \n",
       "84661           NaN       NaN        NaN         NaN           NaN   \n",
       "84662           NaN       NaN        NaN         NaN           NaN   \n",
       "84663           NaN       NaN        NaN         NaN           NaN   \n",
       "84664           NaN       NaN        NaN         NaN           NaN   \n",
       "84665           NaN       NaN        NaN         NaN           NaN   \n",
       "84666           NaN       NaN        NaN         NaN           NaN   \n",
       "84667           NaN       NaN        NaN         NaN           NaN   \n",
       "84668           NaN       NaN        NaN         NaN           NaN   \n",
       "84669           NaN       NaN        NaN         NaN           NaN   \n",
       "84670           NaN       NaN        NaN         NaN           NaN   \n",
       "84671           NaN       NaN        NaN         NaN           NaN   \n",
       "\n",
       "       Unit sale price  \n",
       "0             5.195714  \n",
       "1             6.190000  \n",
       "2                  NaN  \n",
       "3                  NaN  \n",
       "4             5.488000  \n",
       "5                  NaN  \n",
       "6             5.040000  \n",
       "7             3.950000  \n",
       "8                  NaN  \n",
       "9             5.585000  \n",
       "10            3.950000  \n",
       "11            5.070000  \n",
       "12            6.283333  \n",
       "13            5.443333  \n",
       "14                 NaN  \n",
       "15            5.270000  \n",
       "16                 NaN  \n",
       "17                 NaN  \n",
       "18            5.750000  \n",
       "19                 NaN  \n",
       "20                 NaN  \n",
       "21            5.652222  \n",
       "22                 NaN  \n",
       "23            5.723333  \n",
       "24                 NaN  \n",
       "25                 NaN  \n",
       "26            5.585000  \n",
       "27                 NaN  \n",
       "28            5.258000  \n",
       "29                 NaN  \n",
       "...                ...  \n",
       "84642              NaN  \n",
       "84643              NaN  \n",
       "84644              NaN  \n",
       "84645              NaN  \n",
       "84646              NaN  \n",
       "84647              NaN  \n",
       "84648              NaN  \n",
       "84649              NaN  \n",
       "84650              NaN  \n",
       "84651              NaN  \n",
       "84652              NaN  \n",
       "84653              NaN  \n",
       "84654              NaN  \n",
       "84655              NaN  \n",
       "84656              NaN  \n",
       "84657              NaN  \n",
       "84658              NaN  \n",
       "84659              NaN  \n",
       "84660              NaN  \n",
       "84661              NaN  \n",
       "84662              NaN  \n",
       "84663              NaN  \n",
       "84664              NaN  \n",
       "84665              NaN  \n",
       "84666              NaN  \n",
       "84667              NaN  \n",
       "84668              NaN  \n",
       "84669              NaN  \n",
       "84670              NaN  \n",
       "84671              NaN  \n",
       "\n",
       "[84672 rows x 14 columns]"
      ]
     },
     "execution_count": 3,
     "metadata": {},
     "output_type": "execute_result"
    }
   ],
   "source": [
    "df"
   ]
  },
  {
   "cell_type": "code",
   "execution_count": null,
   "metadata": {
    "collapsed": true
   },
   "outputs": [],
   "source": []
  },
  {
   "cell_type": "code",
   "execution_count": null,
   "metadata": {
    "collapsed": true
   },
   "outputs": [],
   "source": [
    "g = nx.from_pandas_edgelist(df, 0, 1)"
   ]
  },
  {
   "cell_type": "code",
   "execution_count": 17,
   "metadata": {
    "collapsed": true
   },
   "outputs": [],
   "source": [
    "u = df.groupby([\"Retailer country\"])"
   ]
  },
  {
   "cell_type": "code",
   "execution_count": 19,
   "metadata": {},
   "outputs": [
    {
     "data": {
      "text/plain": [
       "<pandas.core.groupby.DataFrameGroupBy object at 0x000001BDDA0C56D8>"
      ]
     },
     "execution_count": 19,
     "metadata": {},
     "output_type": "execute_result"
    }
   ],
   "source": [
    "u"
   ]
  },
  {
   "cell_type": "markdown",
   "metadata": {},
   "source": [
    "**We will here desrcribe**: \n",
    " \n",
    " 1) The type of the data\n",
    " \n",
    " 2) The range of the values\n",
    " \n",
    " 3) Which units are used\n",
    " \n",
    " 4) What precision is required\n",
    " \n",
    " 5) If it this unit has a temporal and if yes what is the life span\n",
    " \n",
    " 6) If there are outliers"
   ]
  },
  {
   "cell_type": "code",
   "execution_count": 33,
   "metadata": {
    "collapsed": true
   },
   "outputs": [],
   "source": [
    "samples1 = df.columns"
   ]
  },
  {
   "cell_type": "code",
   "execution_count": 34,
   "metadata": {},
   "outputs": [
    {
     "name": "stdout",
     "output_type": "stream",
     "text": [
      "The columns are: ['Year', 'Product line', 'Product type', 'Product', 'Order method type', 'Retailer country', 'Revenue', 'Planned revenue', 'Product cost', 'Quantity', 'Unit cost', 'Unit price', 'Gross profit', 'Unit sale price']\n"
     ]
    }
   ],
   "source": [
    "print('The columns are:', [sample for sample in samples1])"
   ]
  },
  {
   "cell_type": "markdown",
   "metadata": {},
   "source": [
    "For each column of this data frame we will answer the questions above."
   ]
  },
  {
   "cell_type": "markdown",
   "metadata": {},
   "source": [
    "<h2><center>Year</center></h2>"
   ]
  },
  {
   "cell_type": "code",
   "execution_count": 35,
   "metadata": {},
   "outputs": [
    {
     "data": {
      "text/plain": [
       "array([2004, 2005, 2006, 2007], dtype=int64)"
      ]
     },
     "execution_count": 35,
     "metadata": {},
     "output_type": "execute_result"
    }
   ],
   "source": [
    "df['Year'].unique()"
   ]
  },
  {
   "cell_type": "markdown",
   "metadata": {},
   "source": [
    "1) The attribute type of the year is ordered and more specifically it is quantitative,\n",
    "2) The range are the years between 2004 and 2007,\n",
    "3) The unites that are used are: 2004, 2005, 2006, 2007,\n",
    "4) integer precision,\n",
    "5) The lifespan of each unit is one year (365 days),\n",
    "6) There are no outliers"
   ]
  },
  {
   "cell_type": "markdown",
   "metadata": {},
   "source": [
    "<h2><center>Product line</center></h2>"
   ]
  },
  {
   "cell_type": "code",
   "execution_count": 36,
   "metadata": {},
   "outputs": [
    {
     "data": {
      "text/plain": [
       "array(['Camping Equipment', 'Personal Accessories', 'Outdoor Protection',\n",
       "       'Golf Equipment', 'Mountaineering Equipment'], dtype=object)"
      ]
     },
     "execution_count": 36,
     "metadata": {},
     "output_type": "execute_result"
    }
   ],
   "source": [
    "df['Product line'].unique()"
   ]
  },
  {
   "cell_type": "markdown",
   "metadata": {},
   "source": [
    "1) The attribute type of the Product line is categorical,\n",
    "2) The there are 6 elements,\n",
    "3) The unites that are used are Camping Equipment, Personal Accessories, Outdoor Protection, Golf Equipment, Mountaineering Equipment,\n",
    "4) -,\n",
    "5) -,\n",
    "6) There are no outliers"
   ]
  },
  {
   "cell_type": "markdown",
   "metadata": {},
   "source": [
    "<h2><center>Product type</center></h2>"
   ]
  },
  {
   "cell_type": "code",
   "execution_count": 44,
   "metadata": {},
   "outputs": [
    {
     "data": {
      "text/plain": [
       "array(['Cooking Gear', 'Tents', 'Sleeping Bags', 'Packs', 'Lanterns',\n",
       "       'Watches', 'Eyewear', 'Knives', 'Binoculars', 'Navigation',\n",
       "       'Insect Repellents', 'Sunscreen', 'First Aid', 'Irons', 'Woods',\n",
       "       'Putters', 'Golf Accessories', 'Rope', 'Safety',\n",
       "       'Climbing Accessories', 'Tools'], dtype=object)"
      ]
     },
     "execution_count": 44,
     "metadata": {},
     "output_type": "execute_result"
    }
   ],
   "source": [
    "df['Product type'].unique()"
   ]
  },
  {
   "cell_type": "code",
   "execution_count": 45,
   "metadata": {},
   "outputs": [
    {
     "data": {
      "text/plain": [
       "(21,)"
      ]
     },
     "execution_count": 45,
     "metadata": {},
     "output_type": "execute_result"
    }
   ],
   "source": [
    "df['Product type'].unique().shape"
   ]
  },
  {
   "cell_type": "markdown",
   "metadata": {},
   "source": [
    "1) The attribute type of the Product type is categorical,\n",
    "2) There are 21 unites,\n",
    "3) The unites that are used are: Cooking Gear, Tents, Sleeping Bags, Packs, Lanterns,Watches, Eyewear, Knives, Binoculars, Navigation,Insect Repellents, Sunscreen, First Aid, Irons, Woods,Putters, Golf Accessories, Rope, Safety,Climbing Accessories, Tools,\n",
    "4) -,\n",
    "5) -,\n",
    "6) There are no outliers"
   ]
  },
  {
   "cell_type": "markdown",
   "metadata": {},
   "source": [
    "<h2><center>Product</center></h2>"
   ]
  },
  {
   "cell_type": "code",
   "execution_count": 46,
   "metadata": {
    "scrolled": true
   },
   "outputs": [
    {
     "data": {
      "text/plain": [
       "array(['TrailChef Water Bag', 'TrailChef Canteen', 'TrailChef Kitchen Kit',\n",
       "       'TrailChef Cup', 'TrailChef Cook Set', 'TrailChef Deluxe Cook Set',\n",
       "       'TrailChef Single Flame', 'TrailChef Double Flame',\n",
       "       'TrailChef Kettle', 'TrailChef Utensils', 'Star Lite', 'Star Dome',\n",
       "       'Star Gazer 2', 'Star Gazer 3', 'Star Gazer 6', 'Star Peg',\n",
       "       'Hibernator Lite', 'Hibernator', 'Hibernator Extreme',\n",
       "       'Hibernator Self - Inflating Mat', 'Hibernator Pad',\n",
       "       'Hibernator Pillow', 'Hibernator Camp Cot',\n",
       "       'Canyon Mule Climber Backpack', 'Canyon Mule Weekender Backpack',\n",
       "       'Canyon Mule Journey Backpack', 'Canyon Mule Extreme Backpack',\n",
       "       'Canyon Mule Cooler', 'Canyon Mule Carryall', 'Firefly Lite',\n",
       "       'Firefly Mapreader', 'Firefly 2', 'Firefly 4', 'Firefly Extreme',\n",
       "       'Firefly Multi-light', 'EverGlow Single', 'EverGlow Double',\n",
       "       'EverGlow Kerosene', 'EverGlow Butane', 'EverGlow Lamp',\n",
       "       'Flicker Lantern', 'Mountain Man Analog', 'Mountain Man Digital',\n",
       "       'Mountain Man Deluxe', 'Mountain Man Combination',\n",
       "       'Mountain Man Extreme', 'Venue', 'Infinity', 'Lux', 'Sam', 'TX',\n",
       "       'Legend', 'Kodiak', 'Zodiak', 'Polar Sun', 'Polar Ice',\n",
       "       'Polar Sports', 'Polar Wave', 'Polar Extreme', 'Bella', 'Capri',\n",
       "       'Cat Eye', 'Dante', 'Fairway', 'Inferno', 'Maximus', 'Trendi',\n",
       "       'Zone', 'Hawk Eye', 'Retro', 'Single Edge', 'Double Edge',\n",
       "       'Edge Extreme', 'Bear Edge', 'Bear Survival Edge', 'Max Gizmo',\n",
       "       'Pocket Gizmo', 'Seeker 35', 'Seeker 50', 'Seeker Extreme',\n",
       "       'Seeker Mini', 'Opera Vision', 'Ranger Vision', 'Glacier Basic',\n",
       "       'Glacier Deluxe', 'Glacier GPS', 'Glacier GPS Extreme',\n",
       "       'Trail Master', 'Trail Scout', 'Trail Star', 'Astro Pilot',\n",
       "       'Sky Pilot', 'Auto Pilot', 'BugShield Natural', 'BugShield Spray',\n",
       "       'BugShield Lotion Lite', 'BugShield Lotion', 'BugShield Extreme',\n",
       "       'Sun Blocker', 'Sun Shelter Stick', 'Sun Shelter 15',\n",
       "       'Sun Shelter 30', 'Sun Shield', 'Compact Relief Kit',\n",
       "       'Deluxe Family Relief Kit', 'Calamine Relief', 'Aloe Relief',\n",
       "       'Insect Bite Relief', 'Hailstorm Steel Irons',\n",
       "       'Hailstorm Titanium Irons', 'Lady Hailstorm Steel Irons',\n",
       "       'Lady Hailstorm Titanium Irons', 'Hailstorm Titanium Woods Set',\n",
       "       'Hailstorm Steel Woods Set', 'Lady Hailstorm Titanium Woods Set',\n",
       "       'Lady Hailstorm Steel Woods Set', 'Course Pro Putter',\n",
       "       'Blue Steel Putter', 'Blue Steel Max Putter',\n",
       "       'Course Pro Golf and Tee Set', 'Course Pro Umbrella',\n",
       "       'Course Pro Golf Bag', 'Course Pro Gloves', 'Husky Rope 50',\n",
       "       'Husky Rope 60', 'Husky Rope 100', 'Husky Rope 200',\n",
       "       'Granite Climbing Helmet', 'Husky Harness', 'Husky Harness Extreme',\n",
       "       'Granite Signal Mirror', 'Granite Carabiner', 'Granite Belay',\n",
       "       'Granite Pulley', 'Firefly Climbing Lamp', 'Firefly Charger',\n",
       "       'Firefly Rechargeable Battery', 'Granite Chalk Bag', 'Granite Ice',\n",
       "       'Granite Hammer', 'Granite Shovel', 'Granite Grip', 'Granite Axe',\n",
       "       'Granite Extreme'], dtype=object)"
      ]
     },
     "execution_count": 46,
     "metadata": {},
     "output_type": "execute_result"
    }
   ],
   "source": [
    "df['Product'].unique()"
   ]
  },
  {
   "cell_type": "code",
   "execution_count": 47,
   "metadata": {},
   "outputs": [
    {
     "data": {
      "text/plain": [
       "(144,)"
      ]
     },
     "execution_count": 47,
     "metadata": {},
     "output_type": "execute_result"
    }
   ],
   "source": [
    "df['Product'].unique().shape"
   ]
  },
  {
   "cell_type": "markdown",
   "metadata": {},
   "source": [
    "1) The attribute type of the Product type is categorical,\n",
    "2) There are 144 unites,\n",
    "3) The unites that are used are: TrailChef Water Bag, TrailChef Canteen, TrailChef Kitchen Kit,\n",
    "       TrailChef Cup, TrailChef Cook Set, TrailChef Deluxe Cook Set,\n",
    "       TrailChef Single Flame', 'TrailChef Double Flame',\n",
    "       TrailChef Kettle, TrailChef Utensils, Star Lite, Star Dome,\n",
    "       Star Gazer 2, Star Gazer 3, Star Gazer 6, Star Peg,\n",
    "       Hibernator Lite, Hibernator, Hibernator Extreme,\n",
    "       Hibernator Self - Inflating Mat, Hibernator Pad,\n",
    "       Hibernator Pillow, Hibernator Camp Cot,\n",
    "       Canyon Mule Climber Backpack, Canyon Mule Weekender Backpack,\n",
    "       Canyon Mule Journey Backpack ,..., Canyon Mule Extreme Backpack,\n",
    "       Canyon Mule Cooler, Canyon Mule Carryall,\n",
    "       Granite Pulley, Firefly Climbing Lamp, Firefly Charger,\n",
    "       Firefly Rechargeable Battery, Granite Chalk Bag, Granite Ice,\n",
    "       Granite Hammer, Granite Shovel, Granite Grip, Granite Axe,\n",
    "       Granite Extreme,\n",
    "4) -,\n",
    "5) -,\n",
    "6) There are no outliers"
   ]
  },
  {
   "cell_type": "markdown",
   "metadata": {},
   "source": [
    "<h2><center>Order method type</center></h2>"
   ]
  },
  {
   "cell_type": "code",
   "execution_count": 48,
   "metadata": {},
   "outputs": [
    {
     "data": {
      "text/plain": [
       "array(['Telephone', 'Sales visit', 'Web', 'Special', 'Mail', 'E-mail',\n",
       "       'Fax'], dtype=object)"
      ]
     },
     "execution_count": 48,
     "metadata": {},
     "output_type": "execute_result"
    }
   ],
   "source": [
    "df['Order method type'].unique()"
   ]
  },
  {
   "cell_type": "markdown",
   "metadata": {},
   "source": [
    "1) The attribute type of the year is ordered and more specifically it is quantitative,\n",
    "2) The there are 7 different units,\n",
    "3) The unites that are used are: Telephone, Sales visit, Web, Special, Mail, E-mail, Fax,\n",
    "4)  -,\n",
    "5)  -,\n",
    "6)  - "
   ]
  },
  {
   "cell_type": "markdown",
   "metadata": {},
   "source": [
    "<h2><center>Retailer country</center></h2>"
   ]
  },
  {
   "cell_type": "code",
   "execution_count": 49,
   "metadata": {},
   "outputs": [
    {
     "data": {
      "text/plain": [
       "array(['United States', 'Canada', 'Mexico', 'Brazil', 'Japan', 'Korea',\n",
       "       'China', 'Singapore', 'Australia', 'Netherlands', 'Sweden',\n",
       "       'Finland', 'Denmark', 'France', 'Germany', 'United Kingdom',\n",
       "       'Belgium', 'Switzerland', 'Austria', 'Italy', 'Spain'], dtype=object)"
      ]
     },
     "execution_count": 49,
     "metadata": {},
     "output_type": "execute_result"
    }
   ],
   "source": [
    "df['Retailer country'].unique()"
   ]
  },
  {
   "cell_type": "markdown",
   "metadata": {},
   "source": [
    "1) The attribute type is categorical,\n",
    "2) The range are the years between 2004 and 2007,\n",
    "3) The unites that are used are: United States, Canada, Mexico, Brazil, Japan, Korea,\n",
    "       China, Singapore, Australia, Netherlands, Sweden,\n",
    "       Finland, Denmark, France, Germany, United Kingdom,\n",
    "       Belgium, Switzerland, Austria, Italy, Spain,\n",
    "4) -,\n",
    "5) The lifespan infinite,\n",
    "6) There are no outliers"
   ]
  },
  {
   "cell_type": "markdown",
   "metadata": {},
   "source": [
    "<h2><center>Revenue</center></h2>"
   ]
  },
  {
   "cell_type": "code",
   "execution_count": 77,
   "metadata": {
    "collapsed": true
   },
   "outputs": [],
   "source": [
    "df0=df['Revenue'].fillna(0)"
   ]
  },
  {
   "cell_type": "code",
   "execution_count": 78,
   "metadata": {},
   "outputs": [
    {
     "data": {
      "text/plain": [
       "10054289.0"
      ]
     },
     "execution_count": 78,
     "metadata": {},
     "output_type": "execute_result"
    }
   ],
   "source": [
    "df0.unique().max()"
   ]
  },
  {
   "cell_type": "code",
   "execution_count": 79,
   "metadata": {},
   "outputs": [
    {
     "data": {
      "text/plain": [
       "0.0"
      ]
     },
     "execution_count": 79,
     "metadata": {},
     "output_type": "execute_result"
    }
   ],
   "source": [
    "df0.unique().min()"
   ]
  },
  {
   "cell_type": "code",
   "execution_count": 80,
   "metadata": {},
   "outputs": [
    {
     "data": {
      "text/plain": [
       "array([ 315044.33,   13444.68,        nan, ...,  588468.  ,  331512.  ,\n",
       "         96216.  ])"
      ]
     },
     "execution_count": 80,
     "metadata": {},
     "output_type": "execute_result"
    }
   ],
   "source": [
    "df['Revenue'].unique()"
   ]
  },
  {
   "cell_type": "markdown",
   "metadata": {},
   "source": [
    "1) The attribute type of the revenue is ordered and more specifically it is quantitative,\n",
    "2) The range are the years between 0.0 and 10054289.0 and it also contains nans,\n",
    "3) The unites that are used are: 315044.33,   13444.68,        nan, ...,  588468.  ,  331512.  ,\n",
    "         96216.,\n",
    "4) float precision,\n",
    "5) -,\n",
    "6) There are no outliers the NAN can consider as outliers"
   ]
  },
  {
   "cell_type": "markdown",
   "metadata": {},
   "source": [
    "<h2><center>Product cost</center></h2>"
   ]
  },
  {
   "cell_type": "code",
   "execution_count": 81,
   "metadata": {},
   "outputs": [
    {
     "data": {
      "text/plain": [
       "5.7599999999999998"
      ]
     },
     "execution_count": 81,
     "metadata": {},
     "output_type": "execute_result"
    }
   ],
   "source": [
    "df['Product cost'].min()"
   ]
  },
  {
   "cell_type": "code",
   "execution_count": 82,
   "metadata": {},
   "outputs": [
    {
     "data": {
      "text/plain": [
       "6756852.7800000003"
      ]
     },
     "execution_count": 82,
     "metadata": {},
     "output_type": "execute_result"
    }
   ],
   "source": [
    "df['Product cost'].max()"
   ]
  },
  {
   "cell_type": "code",
   "execution_count": 94,
   "metadata": {},
   "outputs": [
    {
     "data": {
      "text/plain": [
       "(22988,)"
      ]
     },
     "execution_count": 94,
     "metadata": {},
     "output_type": "execute_result"
    }
   ],
   "source": [
    "df['Product cost'].unique().shape"
   ]
  },
  {
   "cell_type": "markdown",
   "metadata": {},
   "source": [
    "1) The attribute type of the revenue is ordered and more specifically it is quantitative,\n",
    "2) The range are the years between 5.7599999999999998 and 6756852.7800000003 and it also contains nans,\n",
    "3) There are 22988 unique unites: 158371.76,    6298.8 ,        nan, ...,  202920.24,   58894.32,\n",
    "        131605.08,\n",
    "4) float precision,\n",
    "5) -,\n",
    "6) There are no outliers the NAN can consider as outliers"
   ]
  },
  {
   "cell_type": "markdown",
   "metadata": {},
   "source": [
    "<h2><center>Quantity</center></h2>"
   ]
  },
  {
   "cell_type": "code",
   "execution_count": 86,
   "metadata": {},
   "outputs": [
    {
     "data": {
      "text/plain": [
       "313628.0"
      ]
     },
     "execution_count": 86,
     "metadata": {},
     "output_type": "execute_result"
    }
   ],
   "source": [
    "df['Quantity'].max()"
   ]
  },
  {
   "cell_type": "code",
   "execution_count": 87,
   "metadata": {},
   "outputs": [
    {
     "data": {
      "text/plain": [
       "1.0"
      ]
     },
     "execution_count": 87,
     "metadata": {},
     "output_type": "execute_result"
    }
   ],
   "source": [
    "df['Quantity'].min()"
   ]
  },
  {
   "cell_type": "code",
   "execution_count": 93,
   "metadata": {},
   "outputs": [
    {
     "data": {
      "text/plain": [
       "array([ 66385.,   2172.,     nan, ...,   4921.,   3664.,   7743.])"
      ]
     },
     "execution_count": 93,
     "metadata": {},
     "output_type": "execute_result"
    }
   ],
   "source": [
    "df['Quantity'].unique()"
   ]
  },
  {
   "cell_type": "markdown",
   "metadata": {},
   "source": [
    "1) The attribute type of the revenue is ordered and more specifically it is quantitative,\n",
    "2) The range are the years between 1.0 and 313628.0 and it also contains nans,\n",
    "3) The unites that are used are:  66385.,   2172.,     nan, ...,   4921.,   3664.,   7743.,\n",
    "4) float precision,\n",
    "5) -,\n",
    "6) There are no outliers the NAN can consider as outliers"
   ]
  },
  {
   "cell_type": "markdown",
   "metadata": {},
   "source": [
    "<h2><center>Unit cost</center></h2>"
   ]
  },
  {
   "cell_type": "code",
   "execution_count": 96,
   "metadata": {},
   "outputs": [
    {
     "data": {
      "text/plain": [
       "array([  2.55285714,   2.9       ,          nan, ...,  21.16153846,\n",
       "        21.11666667,  18.2       ])"
      ]
     },
     "execution_count": 96,
     "metadata": {},
     "output_type": "execute_result"
    }
   ],
   "source": [
    "df['Unit cost'].unique()"
   ]
  },
  {
   "cell_type": "code",
   "execution_count": 98,
   "metadata": {},
   "outputs": [
    {
     "data": {
      "text/plain": [
       "0.84999999999999998"
      ]
     },
     "execution_count": 98,
     "metadata": {},
     "output_type": "execute_result"
    }
   ],
   "source": [
    "df['Unit cost'].min()"
   ]
  },
  {
   "cell_type": "code",
   "execution_count": 99,
   "metadata": {},
   "outputs": [
    {
     "data": {
      "text/plain": [
       "690.0"
      ]
     },
     "execution_count": 99,
     "metadata": {},
     "output_type": "execute_result"
    }
   ],
   "source": [
    "df['Unit cost'].max()"
   ]
  },
  {
   "cell_type": "markdown",
   "metadata": {},
   "source": [
    "1) The attribute type is ordered and more specifically it is quantitative,\n",
    "2) The range are the years between 0.84999999999999998 and 690.0,\n",
    "3) The unites that are used are:  2.55285714,   2.9       ,          nan, ...,  21.16153846,\n",
    "        21.11666667,  18.2,\n",
    "4) foat precision,\n",
    "5) -,\n",
    "6) The outliers are the Nan"
   ]
  },
  {
   "cell_type": "markdown",
   "metadata": {},
   "source": [
    "<h2><center>Unit price</center></h2>"
   ]
  },
  {
   "cell_type": "code",
   "execution_count": 100,
   "metadata": {},
   "outputs": [
    {
     "data": {
      "text/plain": [
       "array([   6.59,     nan,   12.53, ...,  315.4 ,    4.94,   65.45])"
      ]
     },
     "execution_count": 100,
     "metadata": {},
     "output_type": "execute_result"
    }
   ],
   "source": [
    "df['Unit price'].unique()"
   ]
  },
  {
   "cell_type": "code",
   "execution_count": 101,
   "metadata": {},
   "outputs": [
    {
     "data": {
      "text/plain": [
       "690.0"
      ]
     },
     "execution_count": 101,
     "metadata": {},
     "output_type": "execute_result"
    }
   ],
   "source": [
    "df['Unit cost'].max()"
   ]
  },
  {
   "cell_type": "code",
   "execution_count": 102,
   "metadata": {},
   "outputs": [
    {
     "data": {
      "text/plain": [
       "0.84999999999999998"
      ]
     },
     "execution_count": 102,
     "metadata": {},
     "output_type": "execute_result"
    }
   ],
   "source": [
    "df['Unit cost'].min()"
   ]
  },
  {
   "cell_type": "markdown",
   "metadata": {},
   "source": [
    "1) The attribute type of the year is ordered and more specifically it is quantitative,\n",
    "2) The range are the years between 690.0 and 0.84999999999999998,\n",
    "3) The unites that are used are: 6.59,     nan,   12.53, ...,  315.4 ,    4.94,   65.45,\n",
    "4) float precision,\n",
    "5) -,\n",
    "6) nan"
   ]
  },
  {
   "cell_type": "markdown",
   "metadata": {},
   "source": [
    "<h2><center>Gross profit</center></h2>"
   ]
  },
  {
   "cell_type": "code",
   "execution_count": 104,
   "metadata": {},
   "outputs": [
    {
     "data": {
      "text/plain": [
       "array([ 156672.57,    7145.88,        nan, ...,  128591.76,   37321.68,\n",
       "         83398.92])"
      ]
     },
     "execution_count": 104,
     "metadata": {},
     "output_type": "execute_result"
    }
   ],
   "source": [
    "df['Gross profit'].unique()"
   ]
  },
  {
   "cell_type": "code",
   "execution_count": 105,
   "metadata": {},
   "outputs": [
    {
     "data": {
      "text/plain": [
       "1359.72"
      ]
     },
     "execution_count": 105,
     "metadata": {},
     "output_type": "execute_result"
    }
   ],
   "source": [
    "df['Unit price'].max()"
   ]
  },
  {
   "cell_type": "code",
   "execution_count": 106,
   "metadata": {},
   "outputs": [
    {
     "data": {
      "text/plain": [
       "2.0600000000000001"
      ]
     },
     "execution_count": 106,
     "metadata": {},
     "output_type": "execute_result"
    }
   ],
   "source": [
    "df['Unit price'].min()"
   ]
  },
  {
   "cell_type": "markdown",
   "metadata": {},
   "source": [
    "1) The attribute type of the year is ordered and more specifically it is quantitative,\n",
    "2) The range are the years between 2.0600000000000001 and 1359.72,\n",
    "3) The unites that are used are: 156672.57,    7145.88,        nan, ...,  128591.76,   37321.68,\n",
    "         83398.92,\n",
    "4) float precision,\n",
    "5) -,\n",
    "6) nan"
   ]
  },
  {
   "cell_type": "markdown",
   "metadata": {},
   "source": [
    "<h2><center>Unit sale price</center></h2>"
   ]
  },
  {
   "cell_type": "code",
   "execution_count": 107,
   "metadata": {},
   "outputs": [
    {
     "data": {
      "text/plain": [
       "array([  5.19571429,   6.19      ,          nan, ...,  38.58181818,\n",
       "        38.47272727,  38.57142857])"
      ]
     },
     "execution_count": 107,
     "metadata": {},
     "output_type": "execute_result"
    }
   ],
   "source": [
    "df['Unit sale price'].unique()"
   ]
  },
  {
   "cell_type": "code",
   "execution_count": 108,
   "metadata": {},
   "outputs": [
    {
     "data": {
      "text/plain": [
       "3521097.7599999998"
      ]
     },
     "execution_count": 108,
     "metadata": {},
     "output_type": "execute_result"
    }
   ],
   "source": [
    "df['Gross profit'].max()"
   ]
  },
  {
   "cell_type": "code",
   "execution_count": 109,
   "metadata": {},
   "outputs": [
    {
     "data": {
      "text/plain": [
       "-18159.599999999999"
      ]
     },
     "execution_count": 109,
     "metadata": {},
     "output_type": "execute_result"
    }
   ],
   "source": [
    "df['Gross profit'].min()"
   ]
  },
  {
   "cell_type": "markdown",
   "metadata": {},
   "source": [
    "1) The attribute type of the year is ordered and more specifically it is quantitative,\n",
    "2) The range are the years between -18159.599999999999 and 3521097.7599999998,\n",
    "3) The unites that are used are:  5.19571429,   6.19      ,          nan, ...,  38.58181818,\n",
    "        38.47272727,  38.57142857,\n",
    "4) float precision,\n",
    "5) -,\n",
    "6) nan"
   ]
  },
  {
   "cell_type": "markdown",
   "metadata": {},
   "source": [
    "## 7) Identification of relationship and groupings "
   ]
  },
  {
   "cell_type": "code",
   "execution_count": null,
   "metadata": {
    "collapsed": true
   },
   "outputs": [],
   "source": []
  }
 ],
 "metadata": {
  "kernelspec": {
   "display_name": "Python 3",
   "language": "python",
   "name": "python3"
  },
  "language_info": {
   "codemirror_mode": {
    "name": "ipython",
    "version": 3
   },
   "file_extension": ".py",
   "mimetype": "text/x-python",
   "name": "python",
   "nbconvert_exporter": "python",
   "pygments_lexer": "ipython3",
   "version": "3.6.1"
  }
 },
 "nbformat": 4,
 "nbformat_minor": 2
}
